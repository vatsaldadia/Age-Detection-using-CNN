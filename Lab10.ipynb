{
  "cells": [
    {
      "cell_type": "markdown",
      "metadata": {
        "id": "view-in-github",
        "colab_type": "text"
      },
      "source": [
        "<a href=\"https://colab.research.google.com/github/vatsaldadia/Age-Detection-using-CNN/blob/main/Lab10.ipynb\" target=\"_parent\"><img src=\"https://colab.research.google.com/assets/colab-badge.svg\" alt=\"Open In Colab\"/></a>"
      ]
    },
    {
      "cell_type": "markdown",
      "metadata": {
        "id": "7GtKoOByIS-t"
      },
      "source": [
        "# **Week 10: Lab Exercises for COMP499/691 Conversational AI**\n",
        "\n",
        "In this lab, you will become more familiar with spoken language understanding, which is the process of extracting meaning from spoken sentences.\n",
        "\n",
        "The input for a spoken language system can be either a recording of speech or a transcription of a spoken sentence. The output is a semantic representation, often in the form of an ontology, which contains all the relevant information.\n",
        "\n",
        "For example, a user might say something like:\n",
        "\n",
        "`\"I want you to remind me that my next meeting with my girlfriend is at eight PM next Sunday.\" `\n",
        "\n",
        "The desired output would be a semantic representation that includes the scenario, action, and entities, such as the event name, relation, time, and date:\n",
        "\n",
        "```\n",
        "{'scenario': 'calendar'| 'action': 'set'| 'entities': [{'type': 'event_name'| 'filler': 'meeting'}| {'type': 'relation'| 'filler': 'girlfriend'}| {'type': 'time'| 'filler': 'eight pm'}| {'type': 'date'| 'filler': 'next Sunday'}]}\n",
        "\n",
        "```\n",
        "\n",
        "Once we have the semantic representation, we can easily use it to fill a database with relevant information. This technology has many applications, such as phone reservations or as a preprocessing step for a dialogue system.\n",
        "\n",
        "\n",
        "In this lab, we will be utilizing this technology to accomplish simple tasks, such as setting up timers and alarms, performing basic computations, and so on.\n",
        "\n",
        "In our case, we will have in input sentences like:\n",
        "\n",
        "`SET THE TIMER FOR ONE MINUTE AND FIFTY SIX SECONDS`\n",
        "\n",
        "and we have to generate in output semantics representations like:\n",
        "\n",
        "`['intent': 'SetTimer', 'slots': ['hours': 0, 'minutes': 1, 'seconds': 56]]`\n",
        "\n",
        "\n",
        "Let's first download our dataset:"
      ]
    },
    {
      "cell_type": "code",
      "execution_count": null,
      "metadata": {
        "colab": {
          "base_uri": "https://localhost:8080/"
        },
        "id": "j43m1tB4IF49",
        "outputId": "f1e5148d-aa5e-4125-9a71-a7ce5f5956ed"
      },
      "outputs": [
        {
          "output_type": "stream",
          "name": "stdout",
          "text": [
            "Requirement already satisfied: gdown in /usr/local/lib/python3.10/dist-packages (4.7.3)\n",
            "Collecting gdown\n",
            "  Downloading gdown-5.1.0-py3-none-any.whl (17 kB)\n",
            "Requirement already satisfied: beautifulsoup4 in /usr/local/lib/python3.10/dist-packages (from gdown) (4.12.3)\n",
            "Requirement already satisfied: filelock in /usr/local/lib/python3.10/dist-packages (from gdown) (3.13.1)\n",
            "Requirement already satisfied: requests[socks] in /usr/local/lib/python3.10/dist-packages (from gdown) (2.31.0)\n",
            "Requirement already satisfied: tqdm in /usr/local/lib/python3.10/dist-packages (from gdown) (4.66.2)\n",
            "Requirement already satisfied: soupsieve>1.2 in /usr/local/lib/python3.10/dist-packages (from beautifulsoup4->gdown) (2.5)\n",
            "Requirement already satisfied: charset-normalizer<4,>=2 in /usr/local/lib/python3.10/dist-packages (from requests[socks]->gdown) (3.3.2)\n",
            "Requirement already satisfied: idna<4,>=2.5 in /usr/local/lib/python3.10/dist-packages (from requests[socks]->gdown) (3.6)\n",
            "Requirement already satisfied: urllib3<3,>=1.21.1 in /usr/local/lib/python3.10/dist-packages (from requests[socks]->gdown) (2.0.7)\n",
            "Requirement already satisfied: certifi>=2017.4.17 in /usr/local/lib/python3.10/dist-packages (from requests[socks]->gdown) (2024.2.2)\n",
            "Requirement already satisfied: PySocks!=1.5.7,>=1.5.6 in /usr/local/lib/python3.10/dist-packages (from requests[socks]->gdown) (1.7.1)\n",
            "Installing collected packages: gdown\n",
            "  Attempting uninstall: gdown\n",
            "    Found existing installation: gdown 4.7.3\n",
            "    Uninstalling gdown-4.7.3:\n",
            "      Successfully uninstalled gdown-4.7.3\n",
            "Successfully installed gdown-5.1.0\n",
            "Downloading...\n",
            "From (original): https://drive.google.com/uc?id=1OIFMXPBiyVnLbYpmUAHWWClCImiP-KVe\n",
            "From (redirected): https://drive.google.com/uc?id=1OIFMXPBiyVnLbYpmUAHWWClCImiP-KVe&confirm=t&uuid=c3a375c1-533c-4a0b-8629-070fde4fced0\n",
            "To: /content/SLU-dataset.zip\n",
            "100% 184M/184M [00:01<00:00, 95.7MB/s]\n"
          ]
        }
      ],
      "source": [
        "!pip install --upgrade --no-cache-dir gdown\n",
        "!gdown 1OIFMXPBiyVnLbYpmUAHWWClCImiP-KVe"
      ]
    },
    {
      "cell_type": "markdown",
      "metadata": {
        "id": "HbG9iM8OMrLt"
      },
      "source": [
        "We can now unzip it:"
      ]
    },
    {
      "cell_type": "code",
      "execution_count": null,
      "metadata": {
        "id": "timhUmYVuSLl"
      },
      "outputs": [],
      "source": [
        "%%capture\n",
        "!unzip SLU-dataset.zip -d data"
      ]
    },
    {
      "cell_type": "markdown",
      "metadata": {
        "id": "rokMeqH_MxxD"
      },
      "source": [
        "We have to install speechbrain and other dependencies:"
      ]
    },
    {
      "cell_type": "code",
      "execution_count": null,
      "metadata": {
        "id": "5A1Py3_cx0CM"
      },
      "outputs": [],
      "source": [
        "%%capture\n",
        "!git clone https://github.com/speechbrain/speechbrain.git\n",
        "%cd speechbrain\n",
        "!pip install -r requirements.txt\n",
        "!pip install .\n",
        "%cd .."
      ]
    },
    {
      "cell_type": "markdown",
      "metadata": {
        "id": "d7rZeNRnM5ye"
      },
      "source": [
        "## **Exercise 1: Data Preparation**\n",
        "\n",
        "Please, take a look at the data folder. You will see there three csv files:\n",
        "- train-real.csv\n",
        "- dev-real.csv\n",
        "- test-real-csv\n",
        "\n",
        "You have to start from these files and create three JSON files (`train.json`, `valid.json`, `test.json`) formatted as follows:\n",
        "\n",
        "\n",
        "\n",
        "```\n",
        "{\n",
        "  \"test-real_081b092d-3ac3-4ba9-9ab7-1f6dfe966118_prompt-153_0\": {\n",
        "    \"path\": \"/content/data/test-real/081b092d-3ac3-4ba9-9ab7-1f6dfe966118_prompt-153_0.wav\",\n",
        "    \"duration\": 5.9535,\n",
        "    \"transcription\": \"CONVERT FIVE HUNDRED AND EIGHTY SEVEN YARDS TO MILLIMETERS\",\n",
        "    \"asr_transcription\": \"CONVERT FIVE HUNDRED EIGHTY SEVEN YARDS TO MILLIMETERS\",\n",
        "    \"semantics\": \"['intent': 'UnitConversion', 'slots': ['unit1': 'yard', 'unit2': 'millimeter', 'amount': 587]]\"\n",
        "  },\n",
        "  \"test-real_081b092d-3ac3-4ba9-9ab7-1f6dfe966118_prompt-153_1\": {\n",
        "    \"path\": \"/content/data/test-real/081b092d-3ac3-4ba9-9ab7-1f6dfe966118_prompt-153_1.wav\",\n",
        "    \"duration\": 3.5135,\n",
        "    \"transcription\": \"SET ALARM FOR SEVEN P M\",\n",
        "    \"asr_transcription\": \"SET ALARM FOR SEVEN P M\",\n",
        "    \"semantics\": \"['intent': 'SetAlarm', 'slots': ['am_or_pm': 'PM', 'alarm_hour': 7, 'alarm_minute': 0]]\"\n",
        "  },\n",
        "....\n",
        "```\n",
        "You can derive the file-id (e.g, `test-real_081b092d-3ac3-4ba9-9ab7-1f6dfe966118_prompt-153_0`) from processing the colum `path` in the csv files (e.g, `test-real/081b092d-3ac3-4ba9-9ab7-1f6dfe966118_prompt-153_0.wav`)\n",
        "\n",
        "\n",
        "**Complete the code below** to perform the data preparation:"
      ]
    },
    {
      "cell_type": "code",
      "execution_count": null,
      "metadata": {
        "id": "DCH-PS_Uu5Sf"
      },
      "outputs": [],
      "source": [
        "# Your code here\n",
        "import json\n",
        "import torchaudio\n",
        "import csv\n",
        "\n",
        "\n",
        "# Create the data-manifest files\n",
        "def create_json(data_folder, csv_file,  json_file):\n",
        "  # Your code here\n",
        "\n",
        "  # Writing the dictionary to the json file\n",
        "  with open(json_file, mode=\"w\") as json_f:\n",
        "    json.dump(json_dict, json_f, indent=2)\n",
        "\n",
        "\n",
        "# Set up data folder\n",
        "data_folder='/content/data/'\n",
        "tr_annotation_file= data_folder + 'train-real.csv'\n",
        "valid_annotation_file= data_folder + 'dev-real.csv'\n",
        "te_annotation_file= data_folder + 'test-real.csv'\n",
        "\n",
        "# Create json files\n",
        "create_json(data_folder, tr_annotation_file, 'train.json')\n",
        "create_json(data_folder, valid_annotation_file, 'valid.json')\n",
        "create_json(data_folder, te_annotation_file, 'test.json')"
      ]
    },
    {
      "cell_type": "markdown",
      "metadata": {
        "id": "-5ejVersP_-0"
      },
      "source": [
        "## **Exercise 2: Sequence-to-Sequence with the Golden Transcription**\n",
        "\n",
        "As a first attempt, we will build an attention-based encoder-decoder architecture that turns the transcription of the user requirest into the output semantics. In this case, we are assuming that the input contains accurate transcriptions without errors that might have been introduced by a speech recognizer. This information is located in the \"transcription\" field of the JSON file (golden transcriptions). As shown in the figure, we are are going to use a bidirectional LSTM encoder, unidirectional GRU decoder, and Bahdanau's attention between them.\n",
        "\n",
        "\n"
      ]
    },
    {
      "cell_type": "markdown",
      "metadata": {
        "id": "Kc94VgkPYLa2"
      },
      "source": [
        "**Encoder**\n",
        "\n",
        "![image.png](data:image/png;base64,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)"
      ]
    },
    {
      "cell_type": "markdown",
      "metadata": {
        "id": "tSfVr16qZVUN"
      },
      "source": [
        "The **encoder** takes as input a tokenized version of the text transcription, where we feed in the indexes of the tokens corresponding to the input sentences (e.g., `\"CONVERT ONE THIRD FLUID OUNCES TO GALLONS\"`).\n",
        "\n",
        "Next, we have input embeddings that convert these indexes to a set of high-dimensional vectors.\n",
        "\n",
        "The encoder processes its inputs using two bidirectional LSTM layers. It's worth noting that we can use bidirectional networks in the encoder without any issues. Finally, we apply a linear layer that computes the final encoded outputs.\n",
        "\n",
        "The **decoder** is the following:"
      ]
    },
    {
      "cell_type": "markdown",
      "metadata": {
        "id": "60SoiW8Oeuub"
      },
      "source": [
        "**Decoder**\n",
        "\n",
        "![image.png](data:image/png;base64,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)"
      ]
    },
    {
      "cell_type": "markdown",
      "metadata": {
        "id": "MBpYu5OyezBp"
      },
      "source": [
        "The **decoder** is a recurrent neural network that predicts the next token in a sequence based on the previous token. An attention mechanisms connects the last layers of the encoder and the decoder. In this case, the output sequence is an intent and associated slots, such the following one:\n",
        "\n",
        "`['intent': 'UnitConversion', 'slots': ['unit1': 'fluid ounce', 'unit2': 'gallon', 'amount': 0.33]]`\n",
        "\n",
        "To process the output sequence, we first use a tokenizer to convert the text of the semantic representations into a sequence of indices, and then map those indices to a high-dimensional vector using output embeddings.\n",
        "\n",
        "The decoder consists of three layers of unidirectional GRUs, with the last layer incorporating attention mechanisms to connect the encoder output with the decoder. Finally, we apply a linear layer followed by a log softmax to generate the output probabilities.\n",
        "\n",
        "During validation and testing, we use beamsearch to find the most likely output sequence based on the decoder output probabilities. To train the system, we use negative log-likelihood as the objective function.\n",
        "\n",
        "\n",
        "First, let's train two tokenizers: one for the input transcription and another one for the output semantics.\n",
        "\n",
        "**Run the following code** to get the hyperparameter file."
      ]
    },
    {
      "cell_type": "code",
      "execution_count": null,
      "metadata": {
        "id": "TAYxV8xGyJff"
      },
      "outputs": [],
      "source": [
        "%%file hparams_tokenizer.yaml\n",
        "\n",
        "output_folder: !PLACEHOLDER\n",
        "annotation_read: !PLACEHOLDER\n",
        "annotation_file: \"train.json\"\n",
        "vocab_size: 51\n",
        "\n",
        "tokenizer: !name:speechbrain.tokenizers.SentencePiece.SentencePiece\n",
        "   model_dir: !ref <output_folder>\n",
        "   vocab_size: !ref <vocab_size>\n",
        "   annotation_train: !ref <annotation_file>\n",
        "   annotation_read: !ref <annotation_read>\n",
        "   annotation_format : \"json\"\n",
        "   model_type: \"unigram\""
      ]
    },
    {
      "cell_type": "markdown",
      "source": [
        "**Run the following code** to get the training script."
      ],
      "metadata": {
        "id": "wx1SqHxM-30O"
      }
    },
    {
      "cell_type": "code",
      "execution_count": null,
      "metadata": {
        "id": "6m1PgJcc0DvU"
      },
      "outputs": [],
      "source": [
        "%%file train_tokenizer.py\n",
        "\n",
        "#!/usr/bin/env/python3\n",
        "import sys\n",
        "import speechbrain as sb\n",
        "from hyperpyyaml import load_hyperpyyaml\n",
        "from speechbrain.utils.distributed import run_on_main\n",
        "\n",
        "if __name__ == \"__main__\":\n",
        "\n",
        "    # CLI:\n",
        "    hparams_file, run_opts, overrides = sb.parse_arguments(sys.argv[1:])\n",
        "    with open(hparams_file) as fin:\n",
        "        hparams = load_hyperpyyaml(fin, overrides)\n",
        "\n",
        "    # Create experiment directory\n",
        "    sb.create_experiment_directory(\n",
        "        experiment_directory=hparams[\"output_folder\"],\n",
        "        hyperparams_to_save=hparams_file,\n",
        "        overrides=overrides,\n",
        "    )\n",
        "\n",
        "    # Train tokenizer\n",
        "    hparams[\"tokenizer\"]()"
      ]
    },
    {
      "cell_type": "markdown",
      "source": [
        "**Run the following code** to train the two tokenizers:"
      ],
      "metadata": {
        "id": "JsCc482m-7-i"
      }
    },
    {
      "cell_type": "code",
      "execution_count": null,
      "metadata": {
        "id": "XMWCae7309D4"
      },
      "outputs": [],
      "source": [
        "!python train_tokenizer.py hparams_tokenizer.yaml --output_folder='/content/results/tokenizer/transcription/' --annotation_read='transcription'\n",
        "!python train_tokenizer.py hparams_tokenizer.yaml --output_folder='/content/results/tokenizer/semantics/' --annotation_read='semantics'"
      ]
    },
    {
      "cell_type": "markdown",
      "metadata": {
        "id": "FS0BjyRGAvR5"
      },
      "source": [
        "Now, we can think about designing the sequence-to-sequence system described above. Note that this is very similar to other models already implemented in previous labs/tutorials (e.g, the speech recognition one).\n",
        "\n",
        "To begin with, we need to define a hyperparameter file that includes the necessary modules for the training script. Please review the hyperparameter file and become familiar with the various components that are involved.\n",
        "\n",
        "\n",
        "**Run the following code** to store the hyperparameter file."
      ]
    },
    {
      "cell_type": "code",
      "execution_count": null,
      "metadata": {
        "id": "y0Th0Q9uAyn3"
      },
      "outputs": [],
      "source": [
        "%%file hparams.yaml\n",
        "\n",
        "# Seed needs to be set at top of yaml, before objects with parameters are made\n",
        "seed: 1986\n",
        "__set_seed: !apply:torch.manual_seed [!ref <seed>]\n",
        "output_folder: !ref results/NLU/\n",
        "save_folder: !ref <output_folder>/save\n",
        "train_log: !ref <output_folder>/train_log.txt\n",
        "\n",
        "# Data files\n",
        "train_json: train.json\n",
        "valid_json: valid.json\n",
        "test_json: test.json\n",
        "\n",
        "tokenizer_semantics_file: /content/results/tokenizer/semantics/51_unigram.model\n",
        "tokenizer_transcription_file: /content/results/tokenizer/transcription/51_unigram.model\n",
        "\n",
        "# Training parameters\n",
        "number_of_epochs: 15\n",
        "batch_size: 16\n",
        "lr: 0.001\n",
        "\n",
        "# Model params\n",
        "emb_size: 128\n",
        "dec_neurons: 512\n",
        "output_neurons: 51 # index(eos/bos) = 0\n",
        "encoder_dim: 256\n",
        "\n",
        "# Decoding parameters\n",
        "bos_index: 0\n",
        "eos_index: 0\n",
        "min_decode_ratio: 0.0\n",
        "max_decode_ratio: 10.0\n",
        "slu_beam_size: 16\n",
        "eos_threshold: 1.5\n",
        "temperature: 1.25\n",
        "\n",
        "dataloader_opts:\n",
        "    batch_size: !ref <batch_size>\n",
        "    shuffle: True\n",
        "\n",
        "epoch_counter: !new:speechbrain.utils.epoch_loop.EpochCounter\n",
        "    limit: !ref <number_of_epochs>\n",
        "\n",
        "\n",
        "encoder: !new:speechbrain.nnet.containers.Sequential\n",
        "    input_shape: [null, null, !ref <emb_size>]\n",
        "    lstm: !new:speechbrain.nnet.RNN.LSTM\n",
        "        input_size: !ref <emb_size>\n",
        "        bidirectional: True\n",
        "        hidden_size: !ref <encoder_dim>\n",
        "        num_layers: 2\n",
        "    linear: !new:speechbrain.nnet.linear.Linear\n",
        "        input_size: !ref <encoder_dim> * 2\n",
        "        n_neurons: !ref <encoder_dim>\n",
        "\n",
        "input_emb: !new:speechbrain.nnet.embedding.Embedding\n",
        "    num_embeddings: !ref <output_neurons>\n",
        "    embedding_dim: !ref <emb_size>\n",
        "\n",
        "output_emb: !new:speechbrain.nnet.embedding.Embedding\n",
        "    num_embeddings: !ref <output_neurons>\n",
        "    embedding_dim: !ref <emb_size>\n",
        "\n",
        "dec: !new:speechbrain.nnet.RNN.AttentionalRNNDecoder\n",
        "    enc_dim: !ref <encoder_dim>\n",
        "    input_size: !ref <emb_size>\n",
        "    rnn_type: gru\n",
        "    attn_type: content\n",
        "    hidden_size: !ref <dec_neurons>\n",
        "    attn_dim: 512\n",
        "    num_layers: 3\n",
        "    scaling: 1.0\n",
        "    dropout: 0.0\n",
        "\n",
        "seq_lin: !new:speechbrain.nnet.linear.Linear\n",
        "    input_size: !ref <dec_neurons>\n",
        "    n_neurons: !ref <output_neurons>\n",
        "\n",
        "modules:\n",
        "    encoder: !ref <encoder>\n",
        "    input_emb: !ref <input_emb>\n",
        "    output_emb: !ref <output_emb>\n",
        "    dec: !ref <dec>\n",
        "    seq_lin: !ref <seq_lin>\n",
        "\n",
        "\n",
        "model: !new:torch.nn.ModuleList\n",
        "    - [!ref <encoder>, !ref <input_emb>, !ref <output_emb>,\n",
        "       !ref <dec>, !ref <seq_lin>]\n",
        "\n",
        "tokenizer_semantics: !new:sentencepiece.SentencePieceProcessor\n",
        "tokenizer_transcription: !new:sentencepiece.SentencePieceProcessor\n",
        "\n",
        "pretrainer: !new:speechbrain.utils.parameter_transfer.Pretrainer\n",
        "    collect_in: !ref <save_folder>/tokenizers\n",
        "    loadables:\n",
        "        tokenizer_semantics: !ref <tokenizer_semantics>\n",
        "        tokenizer_transcription: !ref <tokenizer_transcription>\n",
        "    paths:\n",
        "        tokenizer_semantics: !ref <tokenizer_semantics_file>\n",
        "        tokenizer_transcription: !ref <tokenizer_transcription_file>\n",
        "\n",
        "beam_searcher: !new:speechbrain.decoders.S2SRNNBeamSearcher\n",
        "    embedding: !ref <output_emb>\n",
        "    decoder: !ref <dec>\n",
        "    linear: !ref <seq_lin>\n",
        "    bos_index: !ref <bos_index>\n",
        "    eos_index: !ref <eos_index>\n",
        "    min_decode_ratio: !ref <min_decode_ratio>\n",
        "    max_decode_ratio: !ref <max_decode_ratio>\n",
        "    beam_size: !ref <slu_beam_size>\n",
        "    eos_threshold: !ref <eos_threshold>\n",
        "    temperature: !ref <temperature>\n",
        "    using_max_attn_shift: False\n",
        "    max_attn_shift: 30\n",
        "\n",
        "opt_class: !name:torch.optim.Adam\n",
        "    lr: !ref <lr>\n",
        "\n",
        "lr_annealing: !new:speechbrain.nnet.schedulers.NewBobScheduler\n",
        "    initial_value: !ref <lr>\n",
        "    improvement_threshold: 0.0025\n",
        "    annealing_factor: 0.8\n",
        "    patient: 0\n",
        "\n",
        "checkpointer: !new:speechbrain.utils.checkpoints.Checkpointer\n",
        "    checkpoints_dir: !ref <save_folder>\n",
        "    recoverables:\n",
        "        model: !ref <model>\n",
        "        scheduler: !ref <lr_annealing>\n",
        "        counter: !ref <epoch_counter>\n",
        "\n",
        "log_softmax: !new:speechbrain.nnet.activations.Softmax\n",
        "    apply_log: True\n",
        "\n",
        "seq_cost: !name:speechbrain.nnet.losses.nll_loss\n",
        "    label_smoothing: 0.1\n",
        "\n",
        "train_logger: !new:speechbrain.utils.train_logger.FileTrainLogger\n",
        "    save_file: !ref <train_log>\n",
        "\n",
        "error_rate_computer: !name:speechbrain.utils.metric_stats.ErrorRateStats\n",
        "\n",
        "cer_computer: !name:speechbrain.utils.metric_stats.ErrorRateStats\n",
        "    split_tokens: True"
      ]
    },
    {
      "cell_type": "markdown",
      "source": [
        "Now, you need to write the training script. You can refer to similar models that have been implemented in previous labs or tutorials. The recommended approach is to copy and paste the relevant code from those models and modify it as needed in this lab.\n",
        "\n",
        "**Note on performance metrics**:\n",
        "Similar to the speech recognition, the performance of the sequence-to-sequence model can be evaluated using metrics such as the character error rate (CER) and the word-error-rate (WER). However, since this task involves generating output semantics, it is also recommended to estimate the sentence-error-rate (SER).\n",
        "\n",
        "The SER can provide an overall indication of how many output semantics are completely correct, which is important for evaluating the model's effectiveness in real-world scenarios. To compute it, you can reuse the wer_metric function that you should instantiate in `on_stage_start` (`self.wer_metric = self.hparams.error_rate_computer()`). You simply have to call it as follows in the on_stage_end method: `stage_stats[\"SER\"] = self.wer_metric.summarize(\"SER\")`.\n",
        "\n",
        "\n",
        "You need to perform the learning rate annealing based on the sentence-error-rate (SER). The SER have also to be used as a reference metric in the checkpoint.During evaluation, it is necessary to select the checkpoint with the lowest SER.\n",
        "\n",
        "\n",
        "**Write the code** for the traning script."
      ],
      "metadata": {
        "id": "TBBDlmXyEfkp"
      }
    },
    {
      "cell_type": "code",
      "execution_count": null,
      "metadata": {
        "id": "gC09a40lB-yq"
      },
      "outputs": [],
      "source": [
        "%%file train_NLU.py\n",
        "\n",
        "# Your code here\n"
      ]
    },
    {
      "cell_type": "markdown",
      "source": [
        "**Run the code below** to train the model:"
      ],
      "metadata": {
        "id": "2znHatrTGnnf"
      }
    },
    {
      "cell_type": "code",
      "execution_count": null,
      "metadata": {
        "id": "X7hzxuJNMKch"
      },
      "outputs": [],
      "source": [
        "!python train_NLU.py hparams.yaml --output_folder=results/NLU2/"
      ]
    },
    {
      "cell_type": "markdown",
      "source": [
        "If everything goes well, you should obtain a traning log similar to this one:\n",
        "\n",
        "```\n",
        "epoch: 1, lr: 1.00e-03 - train loss: 1.61 - valid loss: 9.02e-01, valid CER: 1.79e+02, valid WER: 1.63e+02, valid SER: 1.00e+02\n",
        "epoch: 2, lr: 1.00e-03 - train loss: 8.52e-01 - valid loss: 8.23e-01, valid CER: 11.21, valid WER: 29.23, valid SER: 99.02\n",
        "epoch: 3, lr: 1.00e-03 - train loss: 8.02e-01 - valid loss: 7.82e-01, valid CER: 7.08, valid WER: 17.93, valid SER: 80.88\n",
        "epoch: 4, lr: 1.00e-03 - train loss: 7.54e-01 - valid loss: 7.43e-01, valid CER: 4.38, valid WER: 10.47, valid SER: 59.80\n",
        "epoch: 5, lr: 1.00e-03 - train loss: 7.32e-01 - valid loss: 7.26e-01, valid CER: 3.32, valid WER: 5.78, valid SER: 39.22\n",
        "epoch: 6, lr: 1.00e-03 - train loss: 7.21e-01 - valid loss: 7.14e-01, valid CER: 1.09, valid WER: 1.82, valid SER: 15.20\n",
        "epoch: 7, lr: 1.00e-03 - train loss: 7.13e-01 - valid loss: 7.12e-01, valid CER: 3.58e-01, valid WER: 6.25e-01, valid SER: 5.88\n",
        "epoch: 8, lr: 1.00e-03 - train loss: 7.09e-01 - valid loss: 7.08e-01, valid CER: 1.96e-01, valid WER: 3.13e-01, valid SER: 2.94\n",
        "epoch: 9, lr: 1.00e-03 - train loss: 7.07e-01 - valid loss: 7.07e-01, valid CER: 1.16e-02, valid WER: 1.04e-01, valid SER: 9.80e-01\n",
        "epoch: 10, lr: 1.00e-03 - train loss: 7.06e-01 - valid loss: 7.06e-01, valid CER: 1.16e-02, valid WER: 1.04e-01, valid SER: 9.80e-01\n",
        "epoch: 11, lr: 8.00e-04 - train loss: 7.05e-01 - valid loss: 7.06e-01, valid CER: 1.16e-02, valid WER: 1.04e-01, valid SER: 9.80e-01\n",
        "epoch: 12, lr: 6.40e-04 - train loss: 7.05e-01 - valid loss: 7.06e-01, valid CER: 1.16e-02, valid WER: 1.04e-01, valid SER: 9.80e-01\n",
        "epoch: 13, lr: 5.12e-04 - train loss: 7.05e-01 - valid loss: 7.05e-01, valid CER: 1.16e-02, valid WER: 1.04e-01, valid SER: 9.80e-01\n",
        "epoch: 14, lr: 4.10e-04 - train loss: 7.05e-01 - valid loss: 7.05e-01, valid CER: 1.16e-02, valid WER: 1.04e-01, valid SER: 9.80e-01\n",
        "epoch: 15, lr: 3.28e-04 - train loss: 7.05e-01 - valid loss: 7.05e-01, valid CER: 1.16e-02, valid WER: 1.04e-01, valid SER: 9.80e-01\n",
        "Epoch loaded: 15 - test loss: 7.05e-01, test CER: 1.48e-02, test WER: 8.85e-02, test SER: 8.33e-01\n",
        "```\n",
        "\n",
        "You can take a look at the `wer.txt` file as well to double-check the quality of the predicted output.\n",
        "\n",
        "\n",
        "At the end of the training process, the sentence-error-rate (SER) of the model on the test set should be very low, ideally between 0% and 1%. A low SER indicates that the model can accurately generate output semantics, meaning that the task can be solved almost perfectly."
      ],
      "metadata": {
        "id": "8kdICUp2K-zy"
      }
    },
    {
      "cell_type": "markdown",
      "metadata": {
        "id": "Ul9s0Knvpa9D"
      },
      "source": [
        "## **Exercise 3: Sequence-to-Sequence with the ASR Transcription**\n",
        "\n",
        "In the previous exercise, we used the ideal case of golden transcription as input. However, in real-world scenarios, speech recognition systems can introduce errors in the transcription. In this exercise, we will analyze the effect of ASR errors in the input transcription. The JSON file contains an entry called \"asr_transcription\" that includes the transcription of the input signal obtained from a basic ASR system.\n",
        "\n",
        "For this exercise, you can copy-and-paste the code from Exercise 2 and make a small modification so that the system uses \"asr_transcription\" instead of \"transcription\" as input.\n",
        "\n",
        "\n",
        "**Write the code** for traning the model with the ASR transcriptions:"
      ]
    },
    {
      "cell_type": "code",
      "source": [
        "%%file train_NLU_ASR.py\n",
        "\n",
        "# Your code here\n",
        "\n"
      ],
      "metadata": {
        "id": "Z_dHOfns_eLl"
      },
      "execution_count": null,
      "outputs": []
    },
    {
      "cell_type": "markdown",
      "source": [
        "**Run the code below** to train the model"
      ],
      "metadata": {
        "id": "0Jgu5amqOgnG"
      }
    },
    {
      "cell_type": "code",
      "source": [
        "!python train_NLU_ASR.py hparams.yaml --output_folder=results/NLU_ASR/"
      ],
      "metadata": {
        "id": "JzXEuEp6Ojem"
      },
      "execution_count": null,
      "outputs": []
    },
    {
      "cell_type": "markdown",
      "source": [
        "If everything goes well, you should obtain the following training logs:\n",
        "\n",
        "\n",
        "\n",
        "```\n",
        "epoch: 1, lr: 1.00e-03 - train loss: 1.62 - valid loss: 9.12e-01, valid CER: 1.25e+02, valid WER: 1.21e+02, valid SER: 1.00e+02\n",
        "epoch: 2, lr: 1.00e-03 - train loss: 8.59e-01 - valid loss: 8.33e-01, valid CER: 16.33, valid WER: 37.36, valid SER: 99.51\n",
        "epoch: 3, lr: 1.00e-03 - train loss: 8.17e-01 - valid loss: 8.05e-01, valid CER: 11.64, valid WER: 25.69, valid SER: 92.16\n",
        "epoch: 4, lr: 1.00e-03 - train loss: 7.86e-01 - valid loss: 7.75e-01, valid CER: 7.78, valid WER: 17.72, valid SER: 69.61\n",
        "epoch: 5, lr: 1.00e-03 - train loss: 7.61e-01 - valid loss: 7.61e-01, valid CER: 6.74, valid WER: 14.85, valid SER: 64.22\n",
        "epoch: 6, lr: 1.00e-03 - train loss: 7.49e-01 - valid loss: 7.53e-01, valid CER: 5.23, valid WER: 11.72, valid SER: 58.33\n",
        "epoch: 7, lr: 1.00e-03 - train loss: 7.39e-01 - valid loss: 7.48e-01, valid CER: 3.40, valid WER: 8.39, valid SER: 43.14\n",
        "epoch: 8, lr: 1.00e-03 - train loss: 7.30e-01 - valid loss: 7.42e-01, valid CER: 2.28, valid WER: 7.24, valid SER: 43.14\n",
        "epoch: 9, lr: 8.00e-04 - train loss: 7.23e-01 - valid loss: 7.37e-01, valid CER: 2.56, valid WER: 6.93, valid SER: 36.76\n",
        "epoch: 10, lr: 8.00e-04 - train loss: 7.19e-01 - valid loss: 7.37e-01, valid CER: 2.60, valid WER: 6.93, valid SER: 32.84\n",
        "epoch: 11, lr: 8.00e-04 - train loss: 7.17e-01 - valid loss: 7.38e-01, valid CER: 2.02, valid WER: 6.15, valid SER: 35.29\n",
        "epoch: 12, lr: 6.40e-04 - train loss: 7.14e-01 - valid loss: 7.36e-01, valid CER: 2.00, valid WER: 5.58, valid SER: 31.86\n",
        "epoch: 13, lr: 6.40e-04 - train loss: 7.12e-01 - valid loss: 7.36e-01, valid CER: 1.89, valid WER: 5.94, valid SER: 34.31\n",
        "epoch: 14, lr: 5.12e-04 - train loss: 7.10e-01 - valid loss: 7.36e-01, valid CER: 1.65, valid WER: 5.11, valid SER: 29.90\n",
        "epoch: 15, lr: 5.12e-04 - train loss: 7.09e-01 - valid loss: 7.36e-01, valid CER: 1.70, valid WER: 5.16, valid SER: 30.39\n",
        "Epoch loaded: 14 - test loss: 7.35e-01, test CER: 3.39, test WER: 7.12, test SER: 29.17\n",
        "\n",
        "```\n",
        "\n",
        "\n",
        "\n",
        "\n",
        "\n",
        "\n",
        "As you can see from the results, the sentence error rate has significantly increased due to the ASR errors in the input transcription."
      ],
      "metadata": {
        "id": "tdRBNhr3OpKt"
      }
    },
    {
      "cell_type": "markdown",
      "source": [
        "## **Conclusion**\n",
        "\n",
        "In this lab, we have learned how to train an NLU model on top of speech transcriptions. There are other strategies to improve performance. One approach is to jointly train the ASR and NLU models. Another approach gaining popularity is the end-to-end spoken language understanding, where a single model directly maps the input speech signals to the output semantics.\n",
        "\n",
        "Moreover, modern systems take advantage of pre-trained self-supervised encoders to improve performance further. This dataset includes speech waveforms as well, and you can experiment with these modern approaches if you are interested in this topic.\n",
        "\n",
        "That's all"
      ],
      "metadata": {
        "id": "Oa35vyQEU0Zh"
      }
    }
  ],
  "metadata": {
    "accelerator": "GPU",
    "colab": {
      "provenance": [],
      "include_colab_link": true
    },
    "gpuClass": "standard",
    "kernelspec": {
      "display_name": "Python 3",
      "name": "python3"
    },
    "language_info": {
      "name": "python"
    }
  },
  "nbformat": 4,
  "nbformat_minor": 0
}